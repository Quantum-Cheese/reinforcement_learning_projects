{
 "cells": [
  {
   "cell_type": "markdown",
   "metadata": {},
   "source": [
    "# Collaboration and Competition\n",
    "\n",
    "---\n",
    "\n",
    "In this notebook, you will learn how to use the Unity ML-Agents environment for the third project of the [Deep Reinforcement Learning Nanodegree](https://www.udacity.com/course/deep-reinforcement-learning-nanodegree--nd893) program.\n",
    "\n",
    "### 1. Start the Environment\n",
    "\n",
    "We begin by importing the necessary packages.  If the code cell below returns an error, please revisit the project instructions to double-check that you have installed [Unity ML-Agents](https://github.com/Unity-Technologies/ml-agents/blob/master/docs/Installation.md) and [NumPy]"
   ]
  },
  {
   "cell_type": "code",
   "execution_count": 1,
   "metadata": {},
   "outputs": [],
   "source": [
    "from unityagents import UnityEnvironment\n"
   ]
  },
  {
   "cell_type": "code",
   "execution_count": 2,
   "metadata": {},
   "outputs": [
    {
     "name": "stderr",
     "output_type": "stream",
     "text": [
      "INFO:unityagents:\n",
      "'Academy' started successfully!\n",
      "Unity Academy name: Academy\n",
      "        Number of Brains: 1\n",
      "        Number of External Brains : 1\n",
      "        Lesson number : 0\n",
      "        Reset Parameters :\n",
      "\t\t\n",
      "Unity brain name: TennisBrain\n",
      "        Number of Visual Observations (per agent): 0\n",
      "        Vector Observation space type: continuous\n",
      "        Vector Observation space size (per agent): 8\n",
      "        Number of stacked Vector Observation: 3\n",
      "        Vector Action space type: continuous\n",
      "        Vector Action space size (per agent): 2\n",
      "        Vector Action descriptions: , \n"
     ]
    }
   ],
   "source": [
    "env = UnityEnvironment(file_name=\"Tennis_Windows_x86_64/Tennis.exe\")\n",
    "brain_name = env.brain_names[0]\n",
    "brain = env.brains[brain_name] "
   ]
  },
  {
   "cell_type": "code",
   "execution_count": 3,
   "metadata": {},
   "outputs": [],
   "source": [
    "env_info = env.reset(train_mode=True)[brain_name]\n",
    "\n",
    "state_size=env_info.vector_observations.shape[1]\n",
    "action_size=brain.vector_action_space_size"
   ]
  },
  {
   "cell_type": "markdown",
   "metadata": {},
   "source": [
    "### 2. Examine the State and Action Spaces\n",
    "\n",
    "In this environment, two agents control rackets to bounce a ball over a net. If an agent hits the ball over the net, it receives a reward of +0.1.  If an agent lets a ball hit the ground or hits the ball out of bounds, it receives a reward of -0.01.  Thus, the goal of each agent is to keep the ball in play.\n",
    "\n",
    "The observation space consists of 8 variables corresponding to the position and velocity of the ball and racket. Two continuous actions are available, corresponding to movement toward (or away from) the net, and jumping. \n",
    "\n",
    "Run the code cell below to print some information about the environment."
   ]
  },
  {
   "cell_type": "code",
   "execution_count": 21,
   "metadata": {},
   "outputs": [
    {
     "name": "stdout",
     "output_type": "stream",
     "text": [
      "Number of agents: 2\n",
      "Size of each action: 2\n",
      "There are 2 agents. Each observes a state with length: 24\n",
      "The state for the first agent looks like: [ 0.          0.          0.          0.          0.          0.\n",
      "  0.          0.          0.          0.          0.          0.\n",
      "  0.          0.          0.          0.         -7.82393026 -1.5\n",
      " -0.          0.         -7.78132772  5.94114017 -0.          0.        ]\n"
     ]
    }
   ],
   "source": [
    "# reset the environment\n",
    "env_info = env.reset(train_mode=True)[brain_name]\n",
    "\n",
    "# number of agents \n",
    "num_agents = len(env_info.agents)\n",
    "print('Number of agents:', num_agents)\n",
    "\n",
    "# size of each action\n",
    "action_size = brain.vector_action_space_size\n",
    "print('Size of each action:', action_size)\n",
    "\n",
    "# examine the state space \n",
    "states = env_info.vector_observations\n",
    "state_size = states.shape[1]\n",
    "print('There are {} agents. Each observes a state with length: {}'.format(states.shape[0], state_size))\n",
    "print('The state for the first agent looks like:', states[0]) "
   ]
  },
  {
   "cell_type": "markdown",
   "metadata": {},
   "source": [
    "### 3. Take Random Actions in the Environment\n",
    "\n",
    "In the next code cell, you will learn how to use the Python API to control the agents and receive feedback from the environment.\n",
    "\n",
    "Once this cell is executed, you will watch the agents' performance, if they select actions at random with each time step.  A window should pop up that allows you to observe the agents.\n",
    "\n",
    "Of course, as part of the project, you'll have to change the code so that the agents are able to use their experiences to gradually choose better actions when interacting with the environment!"
   ]
  },
  {
   "cell_type": "code",
   "execution_count": 22,
   "metadata": {},
   "outputs": [
    {
     "name": "stdout",
     "output_type": "stream",
     "text": [
      "Score (max over agents) from episode 1: 0.0\n",
      "Score (max over agents) from episode 2: 0.0\n",
      "Score (max over agents) from episode 3: 0.0\n",
      "Score (max over agents) from episode 4: 0.0\n",
      "Score (max over agents) from episode 5: 0.0\n"
     ]
    }
   ],
   "source": [
    "for i in range(1, 6):                                      # play game for 5 episodes\n",
    "    env_info = env.reset(train_mode=False)[brain_name]     # reset the environment    \n",
    "    states = env_info.vector_observations                  # get the current state (for each agent)\n",
    "    scores = np.zeros(num_agents)                          # initialize the score (for each agent)\n",
    "    while True:\n",
    "        actions = np.random.randn(num_agents, action_size) # select an action (for each agent)\n",
    "        actions = np.clip(actions, -1, 1)                  # all actions between -1 and 1\n",
    "        env_info = env.step(actions)[brain_name]           # send all actions to tne environment\n",
    "        next_states = env_info.vector_observations         # get next state (for each agent)\n",
    "        rewards = env_info.rewards                         # get reward (for each agent)\n",
    "        dones = env_info.local_done                        # see if episode finished\n",
    "        scores += env_info.rewards                         # update the score (for each agent)\n",
    "        states = next_states                               # roll over states to next time step\n",
    "        if np.any(dones):                                  # exit loop if episode finished\n",
    "            break\n",
    "    print('Score (max over agents) from episode {}: {}'.format(i, np.max(scores))) "
   ]
  },
  {
   "cell_type": "markdown",
   "metadata": {},
   "source": [
    "### My work"
   ]
  },
  {
   "cell_type": "markdown",
   "metadata": {},
   "source": [
    "#### 1). Train the agents"
   ]
  },
  {
   "cell_type": "code",
   "execution_count": 4,
   "metadata": {},
   "outputs": [],
   "source": [
    "import torch\n",
    "import numpy as np\n",
    "from collections import deque\n",
    "from multi_agents import MultiAgents\n",
    "\n",
    "import matplotlib.pyplot as plt\n",
    "%matplotlib inline\n",
    "\n",
    "NUM_AGENTS=2"
   ]
  },
  {
   "cell_type": "code",
   "execution_count": 5,
   "metadata": {},
   "outputs": [],
   "source": [
    "def train_agents(multi_agents,n_episodes):\n",
    "    all_scores = []\n",
    "    scores_window = deque(maxlen=100)\n",
    "\n",
    "    for i_episode in range(1, n_episodes + 1):\n",
    "        multi_agents.reset()\n",
    "        # reset the env\n",
    "        env_info = env.reset(train_mode=True)[brain_name]\n",
    "        states = env_info.vector_observations\n",
    "        # print(states.shape)\n",
    "        scores = np.zeros(NUM_AGENTS)\n",
    "\n",
    "        # --- for every time step\n",
    "        while True:\n",
    "            # -- get actions for all agents (based on their own observations)\n",
    "            actions = multi_agents.agents_act(states)\n",
    "\n",
    "            # -- all agents interact with env at the same time\n",
    "            env_info = env.step(actions)[brain_name]\n",
    "            rewards = env_info.rewards   # list [2]\n",
    "            next_states = env_info.vector_observations\n",
    "            dones = env_info.local_done  # list [2]\n",
    "\n",
    "            # -- store the experiments, update agents\n",
    "            multi_agents.agents_step(states, actions, rewards, next_states, dones)\n",
    "            states=next_states\n",
    "            scores += rewards\n",
    "            if np.any(dones):\n",
    "                break\n",
    "\n",
    "        # record the scores (所有 agent scores 的平均值)\n",
    "        scores_window.append(np.mean(scores))\n",
    "        all_scores.append(np.mean(scores))\n",
    "            \n",
    "    \n",
    "        print('\\rEpisode {}\\tAverage Score: {:.2f}'.format(i_episode, np.mean(scores_window)), end=\"\")\n",
    "        if i_episode % 100 == 0:\n",
    "            print('\\rEpisode {}\\tAverage Score: {:.2f}'.format(i_episode, np.mean(scores_window)))\n",
    "        if i_episode>=100 and np.mean(scores_window) >= 0.5:\n",
    "            print('\\nEnvironment solved in {:d} episodes!\\tAverage Score: {:.2f}'.format(i_episode - 5,\n",
    "                                                                                         np.mean(scores_window)))\n",
    "            torch.save(multi_agents.ddpg_agents[0].actor_local.state_dict(), 'models_v3/agent1_actor.pth')\n",
    "            torch.save(multi_agents.ddpg_agents[0].critic_local.state_dict(), 'models_v3/agent1_critic.pth')\n",
    "            torch.save(multi_agents.ddpg_agents[1].actor_local.state_dict(), 'models_v3/agent2_actor.pth')\n",
    "            torch.save(multi_agents.ddpg_agents[1].critic_local.state_dict(), 'models_v3/agent2_critic.pth')\n",
    "            break\n",
    "            \n",
    "    return scores\n",
    "    "
   ]
  },
  {
   "cell_type": "code",
   "execution_count": 8,
   "metadata": {},
   "outputs": [],
   "source": [
    "multi_agents = MultiAgents(state_size, action_size,NUM_AGENTS,seed=7) "
   ]
  },
  {
   "cell_type": "code",
   "execution_count": 10,
   "metadata": {},
   "outputs": [
    {
     "name": "stdout",
     "output_type": "stream",
     "text": [
      "Episode 100\tAverage Score: -0.00\n",
      "Episode 200\tAverage Score: -0.00\n",
      "Episode 300\tAverage Score: -0.00\n",
      "Episode 400\tAverage Score: -0.00\n",
      "Episode 500\tAverage Score: -0.00\n",
      "Episode 600\tAverage Score: -0.00\n",
      "Episode 700\tAverage Score: -0.00\n",
      "Episode 800\tAverage Score: -0.00\n",
      "Episode 900\tAverage Score: 0.000\n",
      "Episode 1000\tAverage Score: 0.00\n",
      "Episode 1100\tAverage Score: 0.020\n",
      "Episode 1200\tAverage Score: 0.010\n",
      "Episode 1300\tAverage Score: 0.03\n",
      "Episode 1400\tAverage Score: 0.02\n",
      "Episode 1500\tAverage Score: 0.010\n",
      "Episode 1600\tAverage Score: 0.05\n",
      "Episode 1700\tAverage Score: 0.04\n",
      "Episode 1800\tAverage Score: 0.01\n",
      "Episode 1900\tAverage Score: 0.03\n",
      "Episode 2000\tAverage Score: 0.05\n",
      "Episode 2060\tAverage Score: 0.83\n",
      "Environment solved in 2055 episodes!\tAverage Score: 0.83\n"
     ]
    }
   ],
   "source": [
    "train_socres = train_agents(multi_agents,n_episodes=20000)  "
   ]
  },
  {
   "cell_type": "markdown",
   "metadata": {},
   "source": [
    "#### 2. Test and plot the scores"
   ]
  },
  {
   "cell_type": "code",
   "execution_count": 6,
   "metadata": {},
   "outputs": [],
   "source": [
    "def plot_scores(scores,save_name):\n",
    "    fig = plt.figure()\n",
    "    ax = fig.add_subplot(111)\n",
    "    plt.plot(np.arange(len(scores)), scores)\n",
    "    plt.ylabel('Score')\n",
    "    plt.xlabel('Episode #')\n",
    "    plt.savefig(save_name)\n",
    "    plt.show() "
   ]
  },
  {
   "cell_type": "code",
   "execution_count": 15,
   "metadata": {},
   "outputs": [],
   "source": [
    "def test_agents(multi_agents,file_names,n_episode):\n",
    "    # load network parameters for trained agents\n",
    "    multi_agents.ddpg_agents[0].actor_local.load_state_dict(torch.load(file_names['a1']))\n",
    "    multi_agents.ddpg_agents[1].actor_local.load_state_dict(torch.load(file_names['a2']))\n",
    "\n",
    "    # interact with env\n",
    "    all_scores = []\n",
    "    for i_episode in range(1, n_episode + 1):\n",
    "        # reset\n",
    "        env_info = env.reset(train_mode=True)[brain_name]\n",
    "        states = env_info.vector_observations\n",
    "        scores = np.zeros(NUM_AGENTS)\n",
    "\n",
    "        while True:\n",
    "            # -- get actions for all agents (based on their own observations)\n",
    "            actions = multi_agents.agents_act(states)\n",
    "\n",
    "            # -- all agents interact with env at the same time\n",
    "            env_info = env.step(actions)[brain_name]\n",
    "            rewards = env_info.rewards  # list [2]\n",
    "            next_states = env_info.vector_observations\n",
    "            dones = env_info.local_done  # list [2]\n",
    "            states = next_states\n",
    "            scores += rewards\n",
    "            if np.any(dones):\n",
    "                break\n",
    "\n",
    "        all_scores.append(np.mean(scores))\n",
    "        \n",
    "    return all_scores"
   ]
  },
  {
   "cell_type": "code",
   "execution_count": 16,
   "metadata": {},
   "outputs": [],
   "source": [
    "file_names={'a1':'models_v2/agent1_actor.pth','a2':'models_v2/agent2_actor.pth'}  \n",
    "scores_test=test_agents(multi_agents,file_names,1000)   "
   ]
  },
  {
   "cell_type": "code",
   "execution_count": 20,
   "metadata": {},
   "outputs": [
    {
     "data": {
      "image/png": "[encoded data removed]",
      "text/plain": [
       "<Figure size 432x288 with 1 Axes>"
      ]
     },
     "metadata": {
      "needs_background": "light"
     },
     "output_type": "display_data"
    }
   ],
   "source": [
    "plot_scores(scores_test,\"test_1.png\")   "
   ]
  },
  {
   "cell_type": "code",
   "execution_count": 17,
   "metadata": {},
   "outputs": [
    {
     "data": {
      "image/png": "[encoded data removed]",
      "text/plain": [
       "<Figure size 432x288 with 1 Axes>"
      ]
     },
     "metadata": {
      "needs_background": "light"
     },
     "output_type": "display_data"
    }
   ],
   "source": [
    "plot_scores(scores_test,\"test_2.png\")  "
   ]
  },
  {
   "cell_type": "code",
   "execution_count": null,
   "metadata": {},
   "outputs": [],
   "source": []
  },
  {
   "cell_type": "code",
   "execution_count": null,
   "metadata": {},
   "outputs": [],
   "source": []
  }
 ],
 "metadata": {
  "kernelspec": {
   "display_name": "drlnd",
   "language": "python",
   "name": "drlnd"
  },
  "language_info": {
   "codemirror_mode": {
    "name": "ipython",
    "version": 3
   },
   "file_extension": ".py",
   "mimetype": "text/x-python",
   "name": "python",
   "nbconvert_exporter": "python",
   "pygments_lexer": "ipython3",
   "version": "3.6.10"
  }
 },
 "nbformat": 4,
 "nbformat_minor": 2
}
